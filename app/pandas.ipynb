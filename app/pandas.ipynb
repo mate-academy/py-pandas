{
 "cells": [
  {
   "cell_type": "markdown",
   "source": [
    "# Pandas"
   ],
   "metadata": {
    "collapsed": false
   }
  },
  {
   "cell_type": "markdown",
   "source": [
    "## Task 1\n",
    "\n",
    "You should import the necessary libraries. You will use `numpy` and `pandas` libraries.\n",
    "\n",
    "\n",
    "> Don't forget to import `numpy`, and `pandas` in short form."
   ],
   "metadata": {
    "collapsed": false
   }
  },
  {
   "cell_type": "code",
   "execution_count": 31,
   "metadata": {
    "collapsed": true,
    "ExecuteTime": {
     "end_time": "2023-11-21T13:43:20.866966400Z",
     "start_time": "2023-11-21T13:43:20.663771600Z"
    }
   },
   "outputs": [],
   "source": [
    "import numpy as np\n",
    "import pandas as pd"
   ]
  },
  {
   "cell_type": "markdown",
   "source": [
    "## Task 2\n",
    "\n",
    "Create a `DataFrame` from the given dictionary `data`."
   ],
   "metadata": {
    "collapsed": false
   }
  },
  {
   "cell_type": "code",
   "execution_count": 32,
   "outputs": [
    {
     "data": {
      "text/plain": "    Name  Age         City\n0   John   16     New York\n1  Emily   28  Los Angeles\n2   Ryan   22      Chicago",
      "text/html": "<div>\n<style scoped>\n    .dataframe tbody tr th:only-of-type {\n        vertical-align: middle;\n    }\n\n    .dataframe tbody tr th {\n        vertical-align: top;\n    }\n\n    .dataframe thead th {\n        text-align: right;\n    }\n</style>\n<table border=\"1\" class=\"dataframe\">\n  <thead>\n    <tr style=\"text-align: right;\">\n      <th></th>\n      <th>Name</th>\n      <th>Age</th>\n      <th>City</th>\n    </tr>\n  </thead>\n  <tbody>\n    <tr>\n      <th>0</th>\n      <td>John</td>\n      <td>16</td>\n      <td>New York</td>\n    </tr>\n    <tr>\n      <th>1</th>\n      <td>Emily</td>\n      <td>28</td>\n      <td>Los Angeles</td>\n    </tr>\n    <tr>\n      <th>2</th>\n      <td>Ryan</td>\n      <td>22</td>\n      <td>Chicago</td>\n    </tr>\n  </tbody>\n</table>\n</div>"
     },
     "execution_count": 32,
     "metadata": {},
     "output_type": "execute_result"
    }
   ],
   "source": [
    "data = {\n",
    "    \"Name\": [\"John\", \"Emily\", \"Ryan\"],\n",
    "    \"Age\": [16, 28, 22],\n",
    "    \"City\": [\"New York\", \"Los Angeles\", \"Chicago\"],\n",
    "}\n",
    "\n",
    "df = pd.DataFrame(data=data)\n",
    "df"
   ],
   "metadata": {
    "collapsed": false,
    "ExecuteTime": {
     "end_time": "2023-11-21T13:43:21.236410700Z",
     "start_time": "2023-11-21T13:43:20.679505400Z"
    }
   }
  },
  {
   "cell_type": "markdown",
   "source": [
    "## Task 3\n",
    "\n",
    "In this task you should complete the following steps:"
   ],
   "metadata": {
    "collapsed": false
   }
  },
  {
   "cell_type": "markdown",
   "source": [
    "### Task 3.1\n",
    "Display all data for `Age` column for the DataFrame you created in the previous task."
   ],
   "metadata": {
    "collapsed": false
   }
  },
  {
   "cell_type": "code",
   "execution_count": 33,
   "outputs": [
    {
     "data": {
      "text/plain": "0    16\n1    28\n2    22\nName: Age, dtype: int64"
     },
     "execution_count": 33,
     "metadata": {},
     "output_type": "execute_result"
    }
   ],
   "source": [
    "df[\"Age\"]"
   ],
   "metadata": {
    "collapsed": false,
    "ExecuteTime": {
     "end_time": "2023-11-21T13:43:21.238411800Z",
     "start_time": "2023-11-21T13:43:20.697943800Z"
    }
   }
  },
  {
   "cell_type": "markdown",
   "source": [
    "### Task 3.2\n",
    "\n",
    "Add `Salary` column to the `DataFrame` with the values `[50000, 60000, 45000]`."
   ],
   "metadata": {
    "collapsed": false
   }
  },
  {
   "cell_type": "markdown",
   "source": [],
   "metadata": {
    "collapsed": false
   }
  },
  {
   "cell_type": "code",
   "execution_count": 34,
   "outputs": [
    {
     "data": {
      "text/plain": "    Name  Age         City  Salary\n0   John   16     New York   50000\n1  Emily   28  Los Angeles   60000\n2   Ryan   22      Chicago   45000",
      "text/html": "<div>\n<style scoped>\n    .dataframe tbody tr th:only-of-type {\n        vertical-align: middle;\n    }\n\n    .dataframe tbody tr th {\n        vertical-align: top;\n    }\n\n    .dataframe thead th {\n        text-align: right;\n    }\n</style>\n<table border=\"1\" class=\"dataframe\">\n  <thead>\n    <tr style=\"text-align: right;\">\n      <th></th>\n      <th>Name</th>\n      <th>Age</th>\n      <th>City</th>\n      <th>Salary</th>\n    </tr>\n  </thead>\n  <tbody>\n    <tr>\n      <th>0</th>\n      <td>John</td>\n      <td>16</td>\n      <td>New York</td>\n      <td>50000</td>\n    </tr>\n    <tr>\n      <th>1</th>\n      <td>Emily</td>\n      <td>28</td>\n      <td>Los Angeles</td>\n      <td>60000</td>\n    </tr>\n    <tr>\n      <th>2</th>\n      <td>Ryan</td>\n      <td>22</td>\n      <td>Chicago</td>\n      <td>45000</td>\n    </tr>\n  </tbody>\n</table>\n</div>"
     },
     "execution_count": 34,
     "metadata": {},
     "output_type": "execute_result"
    }
   ],
   "source": [
    "df[\"Salary\"] = [50000, 60000, 45000]\n",
    "df"
   ],
   "metadata": {
    "collapsed": false,
    "ExecuteTime": {
     "end_time": "2023-11-21T13:43:21.257412800Z",
     "start_time": "2023-11-21T13:43:20.710268400Z"
    }
   }
  },
  {
   "cell_type": "markdown",
   "source": [
    "### Task 3.3\n",
    "\n",
    "Filter the `DataFrame` to show only the rows with the `Age` greater than 18."
   ],
   "metadata": {
    "collapsed": false
   }
  },
  {
   "cell_type": "code",
   "execution_count": 35,
   "outputs": [
    {
     "data": {
      "text/plain": "    Name  Age         City  Salary\n1  Emily   28  Los Angeles   60000\n2   Ryan   22      Chicago   45000",
      "text/html": "<div>\n<style scoped>\n    .dataframe tbody tr th:only-of-type {\n        vertical-align: middle;\n    }\n\n    .dataframe tbody tr th {\n        vertical-align: top;\n    }\n\n    .dataframe thead th {\n        text-align: right;\n    }\n</style>\n<table border=\"1\" class=\"dataframe\">\n  <thead>\n    <tr style=\"text-align: right;\">\n      <th></th>\n      <th>Name</th>\n      <th>Age</th>\n      <th>City</th>\n      <th>Salary</th>\n    </tr>\n  </thead>\n  <tbody>\n    <tr>\n      <th>1</th>\n      <td>Emily</td>\n      <td>28</td>\n      <td>Los Angeles</td>\n      <td>60000</td>\n    </tr>\n    <tr>\n      <th>2</th>\n      <td>Ryan</td>\n      <td>22</td>\n      <td>Chicago</td>\n      <td>45000</td>\n    </tr>\n  </tbody>\n</table>\n</div>"
     },
     "execution_count": 35,
     "metadata": {},
     "output_type": "execute_result"
    }
   ],
   "source": [
    "df[df[\"Age\"] > 18]"
   ],
   "metadata": {
    "collapsed": false,
    "ExecuteTime": {
     "end_time": "2023-11-21T13:43:21.262409300Z",
     "start_time": "2023-11-21T13:43:20.728173Z"
    }
   }
  },
  {
   "cell_type": "markdown",
   "source": [
    "## Task 4\n",
    "\n",
    "In this task you should complete the following steps:"
   ],
   "metadata": {
    "collapsed": false
   }
  },
  {
   "cell_type": "markdown",
   "source": [
    "### Task 4.1\n",
    "\n",
    "Add new calculated field `Birth year`;"
   ],
   "metadata": {
    "collapsed": false
   }
  },
  {
   "cell_type": "code",
   "execution_count": 36,
   "outputs": [
    {
     "data": {
      "text/plain": "    Name  Age         City  Salary  Birth year\n0   John   16     New York   50000        2007\n1  Emily   28  Los Angeles   60000        1995\n2   Ryan   22      Chicago   45000        2001",
      "text/html": "<div>\n<style scoped>\n    .dataframe tbody tr th:only-of-type {\n        vertical-align: middle;\n    }\n\n    .dataframe tbody tr th {\n        vertical-align: top;\n    }\n\n    .dataframe thead th {\n        text-align: right;\n    }\n</style>\n<table border=\"1\" class=\"dataframe\">\n  <thead>\n    <tr style=\"text-align: right;\">\n      <th></th>\n      <th>Name</th>\n      <th>Age</th>\n      <th>City</th>\n      <th>Salary</th>\n      <th>Birth year</th>\n    </tr>\n  </thead>\n  <tbody>\n    <tr>\n      <th>0</th>\n      <td>John</td>\n      <td>16</td>\n      <td>New York</td>\n      <td>50000</td>\n      <td>2007</td>\n    </tr>\n    <tr>\n      <th>1</th>\n      <td>Emily</td>\n      <td>28</td>\n      <td>Los Angeles</td>\n      <td>60000</td>\n      <td>1995</td>\n    </tr>\n    <tr>\n      <th>2</th>\n      <td>Ryan</td>\n      <td>22</td>\n      <td>Chicago</td>\n      <td>45000</td>\n      <td>2001</td>\n    </tr>\n  </tbody>\n</table>\n</div>"
     },
     "execution_count": 36,
     "metadata": {},
     "output_type": "execute_result"
    }
   ],
   "source": [
    "from datetime import datetime\n",
    "\n",
    "\n",
    "df[\"Birth year\"] = datetime.now().year - df[\"Age\"]\n",
    "df"
   ],
   "metadata": {
    "collapsed": false,
    "ExecuteTime": {
     "end_time": "2023-11-21T13:43:21.273412800Z",
     "start_time": "2023-11-21T13:43:20.743956600Z"
    }
   }
  },
  {
   "cell_type": "markdown",
   "source": [
    "### Task 4.2\n",
    "\n",
    "Add new calculated field `Average age`."
   ],
   "metadata": {
    "collapsed": false
   }
  },
  {
   "cell_type": "code",
   "execution_count": 37,
   "outputs": [
    {
     "data": {
      "text/plain": "    Name  Age         City  Salary  Birth year  Average Age\n0   John   16     New York   50000        2007           22\n1  Emily   28  Los Angeles   60000        1995           22\n2   Ryan   22      Chicago   45000        2001           22",
      "text/html": "<div>\n<style scoped>\n    .dataframe tbody tr th:only-of-type {\n        vertical-align: middle;\n    }\n\n    .dataframe tbody tr th {\n        vertical-align: top;\n    }\n\n    .dataframe thead th {\n        text-align: right;\n    }\n</style>\n<table border=\"1\" class=\"dataframe\">\n  <thead>\n    <tr style=\"text-align: right;\">\n      <th></th>\n      <th>Name</th>\n      <th>Age</th>\n      <th>City</th>\n      <th>Salary</th>\n      <th>Birth year</th>\n      <th>Average Age</th>\n    </tr>\n  </thead>\n  <tbody>\n    <tr>\n      <th>0</th>\n      <td>John</td>\n      <td>16</td>\n      <td>New York</td>\n      <td>50000</td>\n      <td>2007</td>\n      <td>22</td>\n    </tr>\n    <tr>\n      <th>1</th>\n      <td>Emily</td>\n      <td>28</td>\n      <td>Los Angeles</td>\n      <td>60000</td>\n      <td>1995</td>\n      <td>22</td>\n    </tr>\n    <tr>\n      <th>2</th>\n      <td>Ryan</td>\n      <td>22</td>\n      <td>Chicago</td>\n      <td>45000</td>\n      <td>2001</td>\n      <td>22</td>\n    </tr>\n  </tbody>\n</table>\n</div>"
     },
     "execution_count": 37,
     "metadata": {},
     "output_type": "execute_result"
    }
   ],
   "source": [
    "df[\"Average Age\"] = int(df[\"Age\"].mean())\n",
    "df"
   ],
   "metadata": {
    "collapsed": false,
    "ExecuteTime": {
     "end_time": "2023-11-21T13:43:21.287408100Z",
     "start_time": "2023-11-21T13:43:20.761610400Z"
    }
   }
  },
  {
   "cell_type": "markdown",
   "source": [
    "### Task 4.3\n",
    "\n",
    "Calculate absolute difference between `Age` and `Average age`."
   ],
   "metadata": {
    "collapsed": false
   }
  },
  {
   "cell_type": "code",
   "execution_count": 38,
   "outputs": [
    {
     "data": {
      "text/plain": "0    6\n1    6\n2    0\ndtype: int64"
     },
     "execution_count": 38,
     "metadata": {},
     "output_type": "execute_result"
    }
   ],
   "source": [
    "abs(df[\"Age\"] - df[\"Average Age\"])"
   ],
   "metadata": {
    "collapsed": false,
    "ExecuteTime": {
     "end_time": "2023-11-21T13:43:21.453409300Z",
     "start_time": "2023-11-21T13:43:20.954955900Z"
    }
   }
  },
  {
   "cell_type": "markdown",
   "source": [
    "## Task 5\n",
    "\n",
    "Complete the following tasks described below."
   ],
   "metadata": {
    "collapsed": false
   }
  },
  {
   "cell_type": "markdown",
   "source": [
    "### Task 5.1\n",
    "\n",
    "You have two dictionaries `data1` and `data2`. Create two `DataFrame` objects from these dictionaries. Then, `concatenate`, and `merge` these two `DataFrame` objects into one `DataFrame` object, and see the difference."
   ],
   "metadata": {
    "collapsed": false
   }
  },
  {
   "cell_type": "code",
   "execution_count": 39,
   "outputs": [],
   "source": [
    "data1 = {\"Name\": [\"John\", \"Emily\", \"Ryan\"],\n",
    "         \"Age\": [25, 28, 22]}\n",
    "data2 = {\"Name\": [\"Emily\", \"Ryan\", \"Mike\"],\n",
    "         \"City\": [\"Los Angeles\", \"Chicago\", \"Houston\"]}\n",
    "\n",
    "df1 = pd.DataFrame(data1)\n",
    "df2 = pd.DataFrame(data2)"
   ],
   "metadata": {
    "collapsed": false,
    "ExecuteTime": {
     "end_time": "2023-11-21T13:43:21.453409300Z",
     "start_time": "2023-11-21T13:43:20.954955900Z"
    }
   }
  },
  {
   "cell_type": "code",
   "execution_count": 40,
   "outputs": [
    {
     "data": {
      "text/plain": "    Name   Age         City\n0   John  25.0          NaN\n1  Emily  28.0  Los Angeles\n2   Ryan  22.0      Chicago\n3   Mike   NaN      Houston",
      "text/html": "<div>\n<style scoped>\n    .dataframe tbody tr th:only-of-type {\n        vertical-align: middle;\n    }\n\n    .dataframe tbody tr th {\n        vertical-align: top;\n    }\n\n    .dataframe thead th {\n        text-align: right;\n    }\n</style>\n<table border=\"1\" class=\"dataframe\">\n  <thead>\n    <tr style=\"text-align: right;\">\n      <th></th>\n      <th>Name</th>\n      <th>Age</th>\n      <th>City</th>\n    </tr>\n  </thead>\n  <tbody>\n    <tr>\n      <th>0</th>\n      <td>John</td>\n      <td>25.0</td>\n      <td>NaN</td>\n    </tr>\n    <tr>\n      <th>1</th>\n      <td>Emily</td>\n      <td>28.0</td>\n      <td>Los Angeles</td>\n    </tr>\n    <tr>\n      <th>2</th>\n      <td>Ryan</td>\n      <td>22.0</td>\n      <td>Chicago</td>\n    </tr>\n    <tr>\n      <th>3</th>\n      <td>Mike</td>\n      <td>NaN</td>\n      <td>Houston</td>\n    </tr>\n  </tbody>\n</table>\n</div>"
     },
     "execution_count": 40,
     "metadata": {},
     "output_type": "execute_result"
    }
   ],
   "source": [
    "merged_df = pd.merge(df1, df2, on=\"Name\", how=\"outer\")\n",
    "merged_df"
   ],
   "metadata": {
    "collapsed": false,
    "ExecuteTime": {
     "end_time": "2023-11-21T13:43:21.454409200Z",
     "start_time": "2023-11-21T13:43:20.954955900Z"
    }
   }
  },
  {
   "cell_type": "code",
   "execution_count": 41,
   "outputs": [
    {
     "data": {
      "text/plain": "    Name   Age         City\n0   John  25.0          NaN\n1  Emily  28.0          NaN\n2   Ryan  22.0          NaN\n3  Emily   NaN  Los Angeles\n4   Ryan   NaN      Chicago\n5   Mike   NaN      Houston",
      "text/html": "<div>\n<style scoped>\n    .dataframe tbody tr th:only-of-type {\n        vertical-align: middle;\n    }\n\n    .dataframe tbody tr th {\n        vertical-align: top;\n    }\n\n    .dataframe thead th {\n        text-align: right;\n    }\n</style>\n<table border=\"1\" class=\"dataframe\">\n  <thead>\n    <tr style=\"text-align: right;\">\n      <th></th>\n      <th>Name</th>\n      <th>Age</th>\n      <th>City</th>\n    </tr>\n  </thead>\n  <tbody>\n    <tr>\n      <th>0</th>\n      <td>John</td>\n      <td>25.0</td>\n      <td>NaN</td>\n    </tr>\n    <tr>\n      <th>1</th>\n      <td>Emily</td>\n      <td>28.0</td>\n      <td>NaN</td>\n    </tr>\n    <tr>\n      <th>2</th>\n      <td>Ryan</td>\n      <td>22.0</td>\n      <td>NaN</td>\n    </tr>\n    <tr>\n      <th>3</th>\n      <td>Emily</td>\n      <td>NaN</td>\n      <td>Los Angeles</td>\n    </tr>\n    <tr>\n      <th>4</th>\n      <td>Ryan</td>\n      <td>NaN</td>\n      <td>Chicago</td>\n    </tr>\n    <tr>\n      <th>5</th>\n      <td>Mike</td>\n      <td>NaN</td>\n      <td>Houston</td>\n    </tr>\n  </tbody>\n</table>\n</div>"
     },
     "execution_count": 41,
     "metadata": {},
     "output_type": "execute_result"
    }
   ],
   "source": [
    "concatenated_df = pd.concat([df1, df2], ignore_index=True)\n",
    "concatenated_df"
   ],
   "metadata": {
    "collapsed": false,
    "ExecuteTime": {
     "end_time": "2023-11-21T13:43:21.468412400Z",
     "start_time": "2023-11-21T13:43:20.974494200Z"
    }
   }
  },
  {
   "cell_type": "markdown",
   "source": [
    "### Task 5.2\n",
    "\n",
    "You have two `Series` objects `s1` and `s2`. Make default mathematical operations on these two `Series` objects. Such as `+`, `-`, `*`, `/`, `**`, `//`, `%`. Also, filter `s1` and print only even numbers, and `s2` only with odd numbers.\n"
   ],
   "metadata": {
    "collapsed": false
   }
  },
  {
   "cell_type": "code",
   "execution_count": 42,
   "outputs": [],
   "source": [
    "s1 = pd.Series([1, 2, 3, 4, 5])\n",
    "s2 = pd.Series([6, 7, 8, 9, 10])"
   ],
   "metadata": {
    "collapsed": false,
    "ExecuteTime": {
     "end_time": "2023-11-21T13:43:21.468412400Z",
     "start_time": "2023-11-21T13:43:20.990980100Z"
    }
   }
  },
  {
   "cell_type": "code",
   "execution_count": 43,
   "outputs": [
    {
     "data": {
      "text/plain": "0     7\n1     9\n2    11\n3    13\n4    15\ndtype: int64"
     },
     "execution_count": 43,
     "metadata": {},
     "output_type": "execute_result"
    }
   ],
   "source": [
    "s1 + s2"
   ],
   "metadata": {
    "collapsed": false,
    "ExecuteTime": {
     "end_time": "2023-11-21T13:43:21.479411100Z",
     "start_time": "2023-11-21T13:43:21.002580300Z"
    }
   }
  },
  {
   "cell_type": "code",
   "execution_count": 44,
   "outputs": [
    {
     "data": {
      "text/plain": "0   -5\n1   -5\n2   -5\n3   -5\n4   -5\ndtype: int64"
     },
     "execution_count": 44,
     "metadata": {},
     "output_type": "execute_result"
    }
   ],
   "source": [
    "s1 - s2"
   ],
   "metadata": {
    "collapsed": false,
    "ExecuteTime": {
     "end_time": "2023-11-21T13:43:21.480410200Z",
     "start_time": "2023-11-21T13:43:21.018617100Z"
    }
   }
  },
  {
   "cell_type": "code",
   "execution_count": 45,
   "outputs": [
    {
     "data": {
      "text/plain": "0     6\n1    14\n2    24\n3    36\n4    50\ndtype: int64"
     },
     "execution_count": 45,
     "metadata": {},
     "output_type": "execute_result"
    }
   ],
   "source": [
    "s1 * s2"
   ],
   "metadata": {
    "collapsed": false,
    "ExecuteTime": {
     "end_time": "2023-11-21T13:43:21.480410200Z",
     "start_time": "2023-11-21T13:43:21.035945300Z"
    }
   }
  },
  {
   "cell_type": "code",
   "execution_count": 46,
   "outputs": [
    {
     "data": {
      "text/plain": "0    0.166667\n1    0.285714\n2    0.375000\n3    0.444444\n4    0.500000\ndtype: float64"
     },
     "execution_count": 46,
     "metadata": {},
     "output_type": "execute_result"
    }
   ],
   "source": [
    "s1 / s2"
   ],
   "metadata": {
    "collapsed": false,
    "ExecuteTime": {
     "end_time": "2023-11-21T13:43:21.481410300Z",
     "start_time": "2023-11-21T13:43:21.049940300Z"
    }
   }
  },
  {
   "cell_type": "code",
   "execution_count": 47,
   "outputs": [
    {
     "data": {
      "text/plain": "0          1\n1        128\n2       6561\n3     262144\n4    9765625\ndtype: int64"
     },
     "execution_count": 47,
     "metadata": {},
     "output_type": "execute_result"
    }
   ],
   "source": [
    "s1 ** s2"
   ],
   "metadata": {
    "collapsed": false,
    "ExecuteTime": {
     "end_time": "2023-11-21T13:43:21.481410300Z",
     "start_time": "2023-11-21T13:43:21.065424900Z"
    }
   }
  },
  {
   "cell_type": "code",
   "execution_count": 48,
   "outputs": [
    {
     "data": {
      "text/plain": "0    0\n1    0\n2    0\n3    0\n4    0\ndtype: int64"
     },
     "execution_count": 48,
     "metadata": {},
     "output_type": "execute_result"
    }
   ],
   "source": [
    "s1 // s2"
   ],
   "metadata": {
    "collapsed": false,
    "ExecuteTime": {
     "end_time": "2023-11-21T13:43:21.482431300Z",
     "start_time": "2023-11-21T13:43:21.079734Z"
    }
   }
  },
  {
   "cell_type": "code",
   "execution_count": 49,
   "outputs": [
    {
     "data": {
      "text/plain": "0    1\n1    2\n2    3\n3    4\n4    5\ndtype: int64"
     },
     "execution_count": 49,
     "metadata": {},
     "output_type": "execute_result"
    }
   ],
   "source": [
    "s1 % s2"
   ],
   "metadata": {
    "collapsed": false,
    "ExecuteTime": {
     "end_time": "2023-11-21T13:43:21.484436700Z",
     "start_time": "2023-11-21T13:43:21.093339600Z"
    }
   }
  },
  {
   "cell_type": "code",
   "execution_count": 50,
   "outputs": [
    {
     "data": {
      "text/plain": "1    2\n3    4\ndtype: int64"
     },
     "execution_count": 50,
     "metadata": {},
     "output_type": "execute_result"
    }
   ],
   "source": [
    "s1[s1 % 2 == 0]"
   ],
   "metadata": {
    "collapsed": false,
    "ExecuteTime": {
     "end_time": "2023-11-21T13:43:21.490410900Z",
     "start_time": "2023-11-21T13:43:21.106725800Z"
    }
   }
  },
  {
   "cell_type": "code",
   "execution_count": 51,
   "outputs": [
    {
     "data": {
      "text/plain": "1    7\n3    9\ndtype: int64"
     },
     "execution_count": 51,
     "metadata": {},
     "output_type": "execute_result"
    }
   ],
   "source": [
    "s2[s2 % 2 != 0]"
   ],
   "metadata": {
    "collapsed": false,
    "ExecuteTime": {
     "end_time": "2023-11-21T13:43:21.491409800Z",
     "start_time": "2023-11-21T13:43:21.120868100Z"
    }
   }
  },
  {
   "cell_type": "markdown",
   "source": [
    "### Task 5.3\n",
    "\n",
    "You have a `Serias` object `s`. Make the following operations on this `Series` object:\n",
    "\n",
    "* make all words in uppercase without loops;\n",
    "* get length of each word without loops.\n"
   ],
   "metadata": {
    "collapsed": false
   }
  },
  {
   "cell_type": "code",
   "execution_count": 52,
   "outputs": [],
   "source": [
    "s = pd.Series([\"numpy\", \"pandas\", \"matplotlib\"])"
   ],
   "metadata": {
    "collapsed": false,
    "ExecuteTime": {
     "end_time": "2023-11-21T13:43:21.491409800Z",
     "start_time": "2023-11-21T13:43:21.134819Z"
    }
   }
  },
  {
   "cell_type": "code",
   "execution_count": 53,
   "outputs": [
    {
     "data": {
      "text/plain": "0         NUMPY\n1        PANDAS\n2    MATPLOTLIB\ndtype: object"
     },
     "execution_count": 53,
     "metadata": {},
     "output_type": "execute_result"
    }
   ],
   "source": [
    "s.str.upper()"
   ],
   "metadata": {
    "collapsed": false,
    "ExecuteTime": {
     "end_time": "2023-11-21T13:43:21.492418600Z",
     "start_time": "2023-11-21T13:43:21.155174500Z"
    }
   }
  },
  {
   "cell_type": "code",
   "execution_count": 54,
   "outputs": [
    {
     "data": {
      "text/plain": "0     5\n1     6\n2    10\ndtype: int64"
     },
     "execution_count": 54,
     "metadata": {},
     "output_type": "execute_result"
    }
   ],
   "source": [
    "s.str.len()"
   ],
   "metadata": {
    "collapsed": false,
    "ExecuteTime": {
     "end_time": "2023-11-21T13:43:21.493410Z",
     "start_time": "2023-11-21T13:43:21.185274100Z"
    }
   }
  },
  {
   "cell_type": "markdown",
   "source": [
    "## Task 6 Optional\n",
    "\n",
    "You have a large dataset consisting of a series of numbers. Your task is to calculate the moving average of the series using a window of `5` elements. The moving average is the average of a set of consecutive values in the series, where the window `slides` through the series to compute the average at each position. The goal is to calculate the moving average efficiently and accurately. Also, compare time performance of Python and Pandas solutions.\n",
    "\n",
    "> Please, note: If you get `nan` while calculating the moving average, you should remove it from the result. Pandas solution should take 1-2 lines of code.\n"
   ],
   "metadata": {
    "collapsed": false
   }
  },
  {
   "cell_type": "markdown",
   "source": [
    "### Python Solution\n",
    "\n",
    "In the Python solution, a large dataset is generated using random numbers. The moving average is computed by iterating over the dataset using a loop. At each position, a window of 5 elements is created, and the average is calculated by summing the values in the window and dividing by 5."
   ],
   "metadata": {
    "collapsed": false
   }
  },
  {
   "cell_type": "code",
   "execution_count": 55,
   "outputs": [
    {
     "name": "stdout",
     "output_type": "stream",
     "text": [
      "CPU times: total: 5 s\n",
      "Wall time: 8.67 s\n"
     ]
    },
    {
     "data": {
      "text/plain": "[47.2, 58.2, 69.0, 70.6, 68.6, 63.8, 66.6, 54.6, 45.8, 47.2]"
     },
     "execution_count": 55,
     "metadata": {},
     "output_type": "execute_result"
    }
   ],
   "source": [
    "import random\n",
    "\n",
    "def unknown_signature():\n",
    "    data = [random.randint(1, 100) for _ in range(10000000)]\n",
    "\n",
    "    moving_averages = []\n",
    "    for i in range(4, len(data)):\n",
    "        window = data[i - 4 : i + 1]\n",
    "        average = sum(window) / 5\n",
    "        moving_averages.append(average)\n",
    "    return moving_averages[:10]\n",
    "\n",
    "%time unknown_signature()"
   ],
   "metadata": {
    "collapsed": false,
    "ExecuteTime": {
     "end_time": "2023-11-21T13:43:29.883803500Z",
     "start_time": "2023-11-21T13:43:21.201413Z"
    }
   }
  },
  {
   "cell_type": "markdown",
   "source": [
    "### Solution using Pandas and Numpy\n"
   ],
   "metadata": {
    "collapsed": false
   }
  },
  {
   "cell_type": "code",
   "execution_count": null,
   "outputs": [],
   "source": [
    "s = pd.Series([random.randint(1, 100) for _ in range(10000000)])\n",
    "%time s.rolling(window=5, min_periods=5).mean().dropna()"
   ],
   "metadata": {
    "collapsed": false,
    "is_executing": true,
    "ExecuteTime": {
     "start_time": "2023-11-21T13:43:29.883803500Z"
    }
   }
  }
 ],
 "metadata": {
  "kernelspec": {
   "display_name": "Python 3",
   "language": "python",
   "name": "python3"
  },
  "language_info": {
   "codemirror_mode": {
    "name": "ipython",
    "version": 2
   },
   "file_extension": ".py",
   "mimetype": "text/x-python",
   "name": "python",
   "nbconvert_exporter": "python",
   "pygments_lexer": "ipython2",
   "version": "2.7.6"
  }
 },
 "nbformat": 4,
 "nbformat_minor": 0
}
